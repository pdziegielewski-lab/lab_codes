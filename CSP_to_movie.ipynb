{
 "cells": [
  {
   "cell_type": "markdown",
   "id": "7acaf307-d579-47a2-ae93-d4d44286501e",
   "metadata": {},
   "source": [
    "## Code load dump file using Ovito library.\n",
    "### Here you have to set path to .dump file"
   ]
  },
  {
   "cell_type": "code",
   "execution_count": 5,
   "id": "e9f599a7-d4ac-433d-bb4c-1fe25ace0fb4",
   "metadata": {},
   "outputs": [
    {
     "name": "stdout",
     "output_type": "stream",
     "text": [
      "File is loading: /home/przemek/Documents/temp/heating_pd_10k_10ps.dump...\n",
      "File is loaded. Number of frames 301\n"
     ]
    }
   ],
   "source": [
    "from ovito.io import import_file\n",
    "from ovito.modifiers import *\n",
    "import matplotlib.pyplot as plt\n",
    "import numpy as np\n",
    "import os\n",
    "\n",
    "# --- Configuration --- #\n",
    "plik_dump = \"/home/przemek/Documents/temp/heating_pd_10k_10ps.dump\"  # path to dump file\n",
    "\n",
    "# File loading\n",
    "print(f\"File is loading: {plik_dump}...\")\n",
    "try:\n",
    "    pipeline = import_file(plik_dump)\n",
    "except Exception as e:\n",
    "    print(f\"Loading error, check file or filepath {e}\")\n",
    "    exit()\n",
    "frame_max = pipeline.source.num_frames\n",
    "print(f\"File is loaded. Number of frames {pipeline.source.num_frames}\")"
   ]
  },
  {
   "cell_type": "markdown",
   "id": "5e090222-e529-4628-91c5-6cf702ba5c37",
   "metadata": {},
   "source": [
    "## That part of the code calculates in loop CSPs and save figures into ./images/ directory"
   ]
  },
  {
   "cell_type": "code",
   "execution_count": 6,
   "id": "27ab698e-c6ec-4862-a61d-14b6504beddc",
   "metadata": {},
   "outputs": [
    {
     "name": "stdout",
     "output_type": "stream",
     "text": [
      "Done 100 %\n"
     ]
    }
   ],
   "source": [
    "iterator = 1 # how often you want to calculate CSP\n",
    "\n",
    "for frame_number in range (0, frame_max, iterator):\n",
    "    #Modifier\n",
    "    procent_done = (frame_number/frame_max)*100\n",
    "    pipeline.modifiers.append(CentroSymmetryModifier())\n",
    "    data = pipeline.compute(frame_number) # data is used to apply modifier for chosen frame\n",
    "    csp = data.tables['csp-centrosymmetry'] # export data to table\n",
    "    time = frame_number/100\n",
    "    # plot export\n",
    "    png_output_directory = \"/home/przemek/Documents/temp/images_csp/\"\n",
    "    if not os.path.exists(png_output_directory):\n",
    "        os.makedirs(png_output_directory)\n",
    "    filename_png = os.path.join(png_output_directory, \"csp_{}.png\".format(frame_number))\n",
    "    #print(csp.xy())\n",
    "    csp_xy_data = csp.xy()\n",
    "    x_values = csp_xy_data[:, 0]\n",
    "    y_values = csp_xy_data[:, 1]\n",
    "    plt.title(f\"Time {time:.1f} ps\") # plot title\n",
    "    plt.plot(x_values, y_values)\n",
    "    plt.xlim(0, 20)\n",
    "    plt.ylim(0, 20000)\n",
    "    plt.xlabel(\"CSP value\")\n",
    "    plt.ylabel(\"Counts\")\n",
    "    plt.title(f\"CSP evolution with time {time:.2f} ps\")\n",
    "    plt.savefig(filename_png)\n",
    "    plt.close()\n",
    "    #print(f\"Done {procent_done:.1f} %\")\n",
    "    pipeline.modifiers.clear()\n",
    "#plt.show()\n",
    "print(f\"Done 100 %\")"
   ]
  },
  {
   "cell_type": "markdown",
   "id": "76cb4c8c-ced0-45b5-951c-00acf5cc6159",
   "metadata": {},
   "source": [
    "## Here we create movie. If you want you can control fps and outfile name. Just run the code to make a movie."
   ]
  },
  {
   "cell_type": "code",
   "execution_count": 12,
   "id": "cec1e21f-b7b4-4a2d-bc4d-8893a09ad1d8",
   "metadata": {},
   "outputs": [
    {
     "name": "stdout",
     "output_type": "stream",
     "text": [
      "[]\n",
      "Error - there is not .png files in directory\n"
     ]
    }
   ],
   "source": [
    "import os\n",
    "from moviepy import ImageSequenceClip\n",
    "\n",
    "fps = 10\n",
    "output_video_file_example = 'test_video.mp4'\n",
    "\n",
    "def create_video_from_images(image_folder, output_video_file, fps, codec='libx265', bitrate=None): \n",
    "    # Checking of the .png files\n",
    "    image_files = [img for img in os.listdir(image_folder) if img.endswith('.png')]\n",
    "\n",
    "    # Sorting of files based on the file number - assuming template name_number.png\n",
    "    def get_numeric_part(filename_with_ext):\n",
    "        basename = os.path.basename(filename_with_ext)\n",
    "        name_without_ext = os.path.splitext(basename)[0]\n",
    "        try:\n",
    "            numeric_string = name_without_ext.split('_')[-1] #convert string to int\n",
    "            return int(numeric_string)\n",
    "        except (IndexError, ValueError):\n",
    "            print(f\"I cannot divide name of the file: {filename_with_ext}\")\n",
    "            return -1 \n",
    "\n",
    "    full_path_images = [os.path.join(image_folder, img) for img in image_files]\n",
    "    full_path_images.sort(key=get_numeric_part)\n",
    "    if not full_path_images:\n",
    "        print(\"Error - there is not .png files in directory\")\n",
    "        return\n",
    "\n",
    "    #print(\"Sorted files to export:\", full_path_images) #can be commented\n",
    "\n",
    "    # Make a movie\n",
    "    clip = ImageSequenceClip(full_path_images, fps=fps)\n",
    "    \n",
    "    # Movie params\n",
    "    if bitrate:\n",
    "        clip.write_videofile(output_video_file, codec=codec, bitrate=bitrate)\n",
    "    else:\n",
    "        clip.write_videofile(output_video_file, codec=codec)\n",
    "\n",
    "    print(f\"Movie exported as {output_video_file}\")\n",
    "\n",
    "# Przykład użycia:\n",
    "# Upewnij się, że masz obrazy w folderze 'images/' nazwane np. 'wykres_format_0.png', 'wykres_format_1.png', itd.\n",
    "# np. tworząc przykładowe pliki:\n",
    "image_folder_example = './Documents/temp/'\n",
    "if not os.path.exists(image_folder_example):\n",
    "    os.makedirs(image_folder_example)\n",
    "# for i in range(5):\n",
    "#    with open(os.path.join(image_folder_example, f\"wykres_format_{i}.png\"), \"w\") as f:\n",
    "#        f.write(\"dummy png content\") # To są tylko puste pliki dla testu struktury\n",
    "\n",
    "output_video_file_example = 'CSP_WS_temp_time.mp4' #video file name\n",
    "create_video_from_images(image_folder_example, output_video_file_example, fps=10, codec='libx264', bitrate='5000k')"
   ]
  },
  {
   "cell_type": "code",
   "execution_count": null,
   "id": "2388a346-6262-482b-a515-26aaa4b8c4eb",
   "metadata": {},
   "outputs": [],
   "source": [
    "rdf = data.tables['coordination-rdf']\n",
    "print(rdf.xy())"
   ]
  },
  {
   "cell_type": "code",
   "execution_count": null,
   "id": "2c2d1679-dd98-4dcd-9791-bf20a120fdd9",
   "metadata": {},
   "outputs": [],
   "source": []
  }
 ],
 "metadata": {
  "kernelspec": {
   "display_name": "Python 3 (ipykernel)",
   "language": "python",
   "name": "python3"
  },
  "language_info": {
   "codemirror_mode": {
    "name": "ipython",
    "version": 3
   },
   "file_extension": ".py",
   "mimetype": "text/x-python",
   "name": "python",
   "nbconvert_exporter": "python",
   "pygments_lexer": "ipython3",
   "version": "3.10.12"
  },
  "widgets": {
   "application/vnd.jupyter.widget-state+json": {
    "state": {},
    "version_major": 2,
    "version_minor": 0
   }
  }
 },
 "nbformat": 4,
 "nbformat_minor": 5
}
