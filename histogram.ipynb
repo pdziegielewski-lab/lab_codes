import matplotlib.pyplot as plt
''' Code for fast plotting histograms '''
# path to file
nazwa_pliku = '/home/przemek/Documents/ZrCu_aims_press/pw_m06l/ZrZr_pairdist.dat'

###### ---- BODY, do not change ----- ################
#File reading and splitting into columns
# Lista do przechowywania wartości z ostatniej kolumny
wartosci = []

try:
    # Otwórz plik w trybie do odczytu ('r')
    with open(nazwa_pliku, 'r') as plik:
        # Przejdź przez każdą linię w pliku
        for linia in plik:
            # Sprawdź, czy linia nie jest komentarzem (nie zaczyna się od '#')
            # i czy nie jest pusta
            if not linia.strip().startswith('#') and linia.strip():
                # Podziel linię na kolumny (domyślnym separatorem jest spacja)
                # i weź ostatni element, konwertując go na liczbę zmiennoprzecinkową (float)
                wartosc = float(linia.split()[-1])
                wartosci.append(wartosc)

# Obsługa błędu, jeśli plik nie zostanie znaleziony
except FileNotFoundError:
    print(f"Błąd: Plik o nazwie '{nazwa_pliku}' nie został znaleziony.")
    exit() # Zakończ program, jeśli nie ma danych
###### END of BODY ######
# Sprawdź, czy lista wartości nie jest pusta
if not wartosci:
    print("Nie znaleziono żadnych danych do narysowania histogramu.")
else:
    # Stwórz histogram
    # `bins` to liczba słupków histogramu, można ją dostosować.
    # `edgecolor` rysuje krawędzie słupków dla lepszej czytelności.
    #bins - number of bins
    plt.hist(wartosci, bins=200, edgecolor='black', color='skyblue') 

    # Dodaj tytuł wykresu i etykiety osi
    plt.title('Distribution of interatomic distances')
    plt.xlabel('Distances [A]')
    plt.ylabel('Counts')
    
    # Dodaj siatkę dla lepszej orientacji
    plt.grid(axis='x', linestyle='--', alpha=0.7)
    plt.xlim(2,4) #x-axis min and max

    # Wyświetl wykres
    plt.show()
