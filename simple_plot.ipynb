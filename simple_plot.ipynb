import os
import matplotlib.pyplot as plt
import numpy as np
import ipywidgets as widgets

def wczytaj_dane(sciezka_do_pliku):
    """
    Wczytuje dane z pliku tekstowego, pomijając określone wiersze i wybierając kolumny x i y.
    Reads data from a simple text file. You can omit chosen lines and set x and y columns.

    Args:
        sciezka_do_pliku (str): Ścieżka do pliku do wczytania.
        path to file

    Returns:
        tuple of x and y lists
    """

    if not os.path.exists(sciezka_do_pliku):
        print(f"Error: File '{sciezka_do_pliku}' wasn't found.")
        return [], []

    try:
        with open(sciezka_do_pliku, 'r') as plik:
            linie = plik.readlines()
    except Exception as e:
        print(f"Error during reading file: {e}")
        return [], []

    try:
        #pominiete_wiersze =  1 #default - one line
        pominiete_wiersze = input("How many lines you want to ommit? ")
        pominiete_wiersze= int(pominiete_wiersze)
        kolumna_x = int(input("Which column is x? (counting from 1) ")) - 1
        kolumna_y = int(input("Which column is y? (counting from 1) ")) - 1
    except ValueError:
        print("Error: wrong data.")
        return [], []

    x_values = []
    y_values = []

    for linia in linie[pominiete_wiersze:]:
        wartosci = linia.strip().split()  # Dzieli linię na wartości
        try:
            x_values.append(float(wartosci[kolumna_x]))
            y_values.append(float(wartosci[kolumna_y]))
            #print(x_values)
            #print(y_values)
        except (ValueError, IndexError):
            print(f"Error: Wrong data in line: {linia.strip()}")

    return x_values, y_values

# Przykład użycia
sciezka_do_pliku = "full path to file"
#sciezka_do_pliku=input("Write the full path to file: ")
x, y = wczytaj_dane(sciezka_do_pliku)

if x and y:
    print("Reading - ok.")
    #print("X:", x)
    #print("Y:", y)

# Utwórz wykres
plt.plot(x, y)

# Dodaj tytuł i etykiety osi
plt.title('title')
plt.xlabel('x label')
plt.ylabel('y label')
#plt.xlim(1,5)
#plt.ylim(0,1)

# Dodaj siatkę
plt.grid(True)

# Wyświetl wykres
plt.show()
